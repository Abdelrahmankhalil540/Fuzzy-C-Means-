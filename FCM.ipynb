{
 "cells": [
  {
   "cell_type": "code",
   "execution_count": 1,
   "id": "ee6bcea5",
   "metadata": {
    "_cell_guid": "b1076dfc-b9ad-4769-8c92-a6c4dae69d19",
    "_uuid": "8f2839f25d086af736a60e9eeb907d3b93b6e0e5",
    "execution": {
     "iopub.execute_input": "2021-12-04T18:51:06.841882Z",
     "iopub.status.busy": "2021-12-04T18:51:06.840066Z",
     "iopub.status.idle": "2021-12-04T18:51:06.864593Z",
     "shell.execute_reply": "2021-12-04T18:51:06.865090Z",
     "shell.execute_reply.started": "2021-12-04T18:47:57.891638Z"
    },
    "papermill": {
     "duration": 0.066615,
     "end_time": "2021-12-04T18:51:06.865397",
     "exception": false,
     "start_time": "2021-12-04T18:51:06.798782",
     "status": "completed"
    },
    "tags": []
   },
   "outputs": [
    {
     "name": "stdout",
     "output_type": "stream",
     "text": [
      "/kaggle/input/unsupervised-learning-on-country-data/Country-data.csv\n",
      "/kaggle/input/unsupervised-learning-on-country-data/data-dictionary.csv\n"
     ]
    }
   ],
   "source": [
    "# This Python 3 environment comes with many helpful analytics libraries installed\n",
    "# It is defined by the kaggle/python Docker image: https://github.com/kaggle/docker-python\n",
    "# For example, here's several helpful packages to load\n",
    "\n",
    "import numpy as np # linear algebra\n",
    "import pandas as pd # data processing, CSV file I/O (e.g. pd.read_csv)\n",
    "\n",
    "# Input data files are available in the read-only \"../input/\" directory\n",
    "# For example, running this (by clicking run or pressing Shift+Enter) will list all files under the input directory\n",
    "\n",
    "import os\n",
    "for dirname, _, filenames in os.walk('/kaggle/input'):\n",
    "    for filename in filenames:\n",
    "        print(os.path.join(dirname, filename))\n",
    "\n",
    "# You can write up to 20GB to the current directory (/kaggle/working/) that gets preserved as output when you create a version using \"Save & Run All\" \n",
    "# You can also write temporary files to /kaggle/temp/, but they won't be saved outside of the current session"
   ]
  },
  {
   "cell_type": "markdown",
   "id": "fa4dfae3",
   "metadata": {
    "papermill": {
     "duration": 0.02969,
     "end_time": "2021-12-04T18:51:06.926080",
     "exception": false,
     "start_time": "2021-12-04T18:51:06.896390",
     "status": "completed"
    },
    "tags": []
   },
   "source": [
    "# ****import library "
   ]
  },
  {
   "cell_type": "code",
   "execution_count": 2,
   "id": "85746378",
   "metadata": {
    "execution": {
     "iopub.execute_input": "2021-12-04T18:51:06.992439Z",
     "iopub.status.busy": "2021-12-04T18:51:06.991491Z",
     "iopub.status.idle": "2021-12-04T18:51:23.373114Z",
     "shell.execute_reply": "2021-12-04T18:51:23.372514Z",
     "shell.execute_reply.started": "2021-12-04T18:47:57.903664Z"
    },
    "papermill": {
     "duration": 16.417173,
     "end_time": "2021-12-04T18:51:23.373285",
     "exception": false,
     "start_time": "2021-12-04T18:51:06.956112",
     "status": "completed"
    },
    "tags": []
   },
   "outputs": [
    {
     "name": "stdout",
     "output_type": "stream",
     "text": [
      "Collecting fuzzy_c_means\r\n",
      "  Downloading fuzzy_c_means-1.6.3-py3-none-any.whl (9.1 kB)\r\n",
      "Requirement already satisfied: pydantic<2.0.0,>=1.8.2 in /opt/conda/lib/python3.7/site-packages (from fuzzy_c_means) (1.8.2)\r\n",
      "Collecting numpy<2.0.0,>=1.21.1\r\n",
      "  Downloading numpy-1.21.4-cp37-cp37m-manylinux_2_12_x86_64.manylinux2010_x86_64.whl (15.7 MB)\r\n",
      "     |████████████████████████████████| 15.7 MB 918 kB/s            \r\n",
      "\u001b[?25hRequirement already satisfied: tabulate<0.9.0,>=0.8.9 in /opt/conda/lib/python3.7/site-packages (from fuzzy_c_means) (0.8.9)\r\n",
      "Collecting typer<0.4.0,>=0.3.2\r\n",
      "  Downloading typer-0.3.2-py3-none-any.whl (21 kB)\r\n",
      "Requirement already satisfied: typing-extensions>=3.7.4.3 in /opt/conda/lib/python3.7/site-packages (from pydantic<2.0.0,>=1.8.2->fuzzy_c_means) (3.10.0.2)\r\n",
      "Collecting click<7.2.0,>=7.1.1\r\n",
      "  Downloading click-7.1.2-py2.py3-none-any.whl (82 kB)\r\n",
      "     |████████████████████████████████| 82 kB 773 kB/s             \r\n",
      "\u001b[?25hInstalling collected packages: click, typer, numpy, fuzzy-c-means\r\n",
      "  Attempting uninstall: click\r\n",
      "    Found existing installation: click 8.0.3\r\n",
      "    Uninstalling click-8.0.3:\r\n",
      "      Successfully uninstalled click-8.0.3\r\n",
      "  Attempting uninstall: typer\r\n",
      "    Found existing installation: typer 0.4.0\r\n",
      "    Uninstalling typer-0.4.0:\r\n",
      "      Successfully uninstalled typer-0.4.0\r\n",
      "  Attempting uninstall: numpy\r\n",
      "    Found existing installation: numpy 1.19.5\r\n",
      "    Uninstalling numpy-1.19.5:\r\n",
      "      Successfully uninstalled numpy-1.19.5\r\n",
      "\u001b[31mERROR: pip's dependency resolver does not currently take into account all the packages that are installed. This behaviour is the source of the following dependency conflicts.\r\n",
      "tensorflow-io 0.21.0 requires tensorflow-io-gcs-filesystem==0.21.0, which is not installed.\r\n",
      "explainable-ai-sdk 1.3.2 requires xai-image-widget, which is not installed.\r\n",
      "beatrix-jupyterlab 3.1.4 requires google-cloud-bigquery-storage, which is not installed.\r\n",
      "yellowbrick 1.3.post1 requires numpy<1.20,>=1.16.0, but you have numpy 1.21.4 which is incompatible.\r\n",
      "tfx-bsl 1.4.0 requires absl-py<0.13,>=0.9, but you have absl-py 0.15.0 which is incompatible.\r\n",
      "tfx-bsl 1.4.0 requires numpy<1.20,>=1.16, but you have numpy 1.21.4 which is incompatible.\r\n",
      "tfx-bsl 1.4.0 requires pyarrow<6,>=1, but you have pyarrow 6.0.0 which is incompatible.\r\n",
      "tensorflow 2.6.2 requires numpy~=1.19.2, but you have numpy 1.21.4 which is incompatible.\r\n",
      "tensorflow 2.6.2 requires six~=1.15.0, but you have six 1.16.0 which is incompatible.\r\n",
      "tensorflow 2.6.2 requires typing-extensions~=3.7.4, but you have typing-extensions 3.10.0.2 which is incompatible.\r\n",
      "tensorflow 2.6.2 requires wrapt~=1.12.1, but you have wrapt 1.13.3 which is incompatible.\r\n",
      "tensorflow-transform 1.4.0 requires absl-py<0.13,>=0.9, but you have absl-py 0.15.0 which is incompatible.\r\n",
      "tensorflow-transform 1.4.0 requires numpy<1.20,>=1.16, but you have numpy 1.21.4 which is incompatible.\r\n",
      "tensorflow-transform 1.4.0 requires pyarrow<6,>=1, but you have pyarrow 6.0.0 which is incompatible.\r\n",
      "pdpbox 0.2.1 requires matplotlib==3.1.1, but you have matplotlib 3.5.0 which is incompatible.\r\n",
      "numba 0.54.1 requires numpy<1.21,>=1.17, but you have numpy 1.21.4 which is incompatible.\r\n",
      "imbalanced-learn 0.8.1 requires scikit-learn>=0.24, but you have scikit-learn 0.23.2 which is incompatible.\r\n",
      "apache-beam 2.34.0 requires dill<0.3.2,>=0.3.1.1, but you have dill 0.3.4 which is incompatible.\r\n",
      "apache-beam 2.34.0 requires httplib2<0.20.0,>=0.8, but you have httplib2 0.20.2 which is incompatible.\r\n",
      "apache-beam 2.34.0 requires numpy<1.21.0,>=1.14.3, but you have numpy 1.21.4 which is incompatible.\r\n",
      "apache-beam 2.34.0 requires pyarrow<6.0.0,>=0.15.1, but you have pyarrow 6.0.0 which is incompatible.\u001b[0m\r\n",
      "Successfully installed click-7.1.2 fuzzy-c-means-1.6.3 numpy-1.21.4 typer-0.3.2\r\n",
      "\u001b[33mWARNING: Running pip as the 'root' user can result in broken permissions and conflicting behaviour with the system package manager. It is recommended to use a virtual environment instead: https://pip.pypa.io/warnings/venv\u001b[0m\r\n",
      "Note: you may need to restart the kernel to use updated packages.\n"
     ]
    }
   ],
   "source": [
    "pip install fuzzy_c_means "
   ]
  },
  {
   "cell_type": "code",
   "execution_count": 3,
   "id": "7c5df0b1",
   "metadata": {
    "execution": {
     "iopub.execute_input": "2021-12-04T18:51:23.472996Z",
     "iopub.status.busy": "2021-12-04T18:51:23.466885Z",
     "iopub.status.idle": "2021-12-04T18:51:24.743424Z",
     "shell.execute_reply": "2021-12-04T18:51:24.742876Z",
     "shell.execute_reply.started": "2021-12-04T18:47:57.912041Z"
    },
    "papermill": {
     "duration": 1.324215,
     "end_time": "2021-12-04T18:51:24.743574",
     "exception": false,
     "start_time": "2021-12-04T18:51:23.419359",
     "status": "completed"
    },
    "tags": []
   },
   "outputs": [],
   "source": [
    "import numpy as np \n",
    "import pandas as pd\n",
    "import matplotlib .pyplot as plt \n",
    "%matplotlib inline\n",
    "import seaborn as sns\n",
    "import warnings\n",
    "warnings.filterwarnings('ignore')\n",
    "from fcmeans import FCM\n",
    "from sklearn.preprocessing import StandardScaler\n",
    "from sklearn.preprocessing import OrdinalEncoder"
   ]
  },
  {
   "cell_type": "markdown",
   "id": "9b0bd7c0",
   "metadata": {
    "papermill": {
     "duration": 0.045263,
     "end_time": "2021-12-04T18:51:24.833536",
     "exception": false,
     "start_time": "2021-12-04T18:51:24.788273",
     "status": "completed"
    },
    "tags": []
   },
   "source": [
    "# ****Read Data"
   ]
  },
  {
   "cell_type": "code",
   "execution_count": 4,
   "id": "9315fc03",
   "metadata": {
    "execution": {
     "iopub.execute_input": "2021-12-04T18:51:24.927979Z",
     "iopub.status.busy": "2021-12-04T18:51:24.927183Z",
     "iopub.status.idle": "2021-12-04T18:51:24.944002Z",
     "shell.execute_reply": "2021-12-04T18:51:24.943415Z",
     "shell.execute_reply.started": "2021-12-04T18:47:57.924454Z"
    },
    "papermill": {
     "duration": 0.065777,
     "end_time": "2021-12-04T18:51:24.944147",
     "exception": false,
     "start_time": "2021-12-04T18:51:24.878370",
     "status": "completed"
    },
    "tags": []
   },
   "outputs": [],
   "source": [
    "data = pd.read_csv('../input/unsupervised-learning-on-country-data/Country-data.csv')\n"
   ]
  },
  {
   "cell_type": "code",
   "execution_count": 5,
   "id": "0225a9f8",
   "metadata": {
    "execution": {
     "iopub.execute_input": "2021-12-04T18:51:25.040856Z",
     "iopub.status.busy": "2021-12-04T18:51:25.040188Z",
     "iopub.status.idle": "2021-12-04T18:51:25.043101Z",
     "shell.execute_reply": "2021-12-04T18:51:25.043576Z",
     "shell.execute_reply.started": "2021-12-04T18:47:57.940162Z"
    },
    "papermill": {
     "duration": 0.054971,
     "end_time": "2021-12-04T18:51:25.043739",
     "exception": false,
     "start_time": "2021-12-04T18:51:24.988768",
     "status": "completed"
    },
    "tags": []
   },
   "outputs": [
    {
     "data": {
      "text/plain": [
       "(167, 10)"
      ]
     },
     "execution_count": 5,
     "metadata": {},
     "output_type": "execute_result"
    }
   ],
   "source": [
    "data.shape"
   ]
  },
  {
   "cell_type": "code",
   "execution_count": 6,
   "id": "6eeaab5c",
   "metadata": {
    "execution": {
     "iopub.execute_input": "2021-12-04T18:51:25.137356Z",
     "iopub.status.busy": "2021-12-04T18:51:25.136688Z",
     "iopub.status.idle": "2021-12-04T18:51:25.159273Z",
     "shell.execute_reply": "2021-12-04T18:51:25.158774Z",
     "shell.execute_reply.started": "2021-12-04T18:47:57.951369Z"
    },
    "papermill": {
     "duration": 0.071315,
     "end_time": "2021-12-04T18:51:25.159426",
     "exception": false,
     "start_time": "2021-12-04T18:51:25.088111",
     "status": "completed"
    },
    "tags": []
   },
   "outputs": [
    {
     "data": {
      "text/html": [
       "<div>\n",
       "<style scoped>\n",
       "    .dataframe tbody tr th:only-of-type {\n",
       "        vertical-align: middle;\n",
       "    }\n",
       "\n",
       "    .dataframe tbody tr th {\n",
       "        vertical-align: top;\n",
       "    }\n",
       "\n",
       "    .dataframe thead th {\n",
       "        text-align: right;\n",
       "    }\n",
       "</style>\n",
       "<table border=\"1\" class=\"dataframe\">\n",
       "  <thead>\n",
       "    <tr style=\"text-align: right;\">\n",
       "      <th></th>\n",
       "      <th>country</th>\n",
       "      <th>child_mort</th>\n",
       "      <th>exports</th>\n",
       "      <th>health</th>\n",
       "      <th>imports</th>\n",
       "      <th>income</th>\n",
       "      <th>inflation</th>\n",
       "      <th>life_expec</th>\n",
       "      <th>total_fer</th>\n",
       "      <th>gdpp</th>\n",
       "    </tr>\n",
       "  </thead>\n",
       "  <tbody>\n",
       "    <tr>\n",
       "      <th>0</th>\n",
       "      <td>Afghanistan</td>\n",
       "      <td>90.2</td>\n",
       "      <td>10.0</td>\n",
       "      <td>7.58</td>\n",
       "      <td>44.9</td>\n",
       "      <td>1610</td>\n",
       "      <td>9.44</td>\n",
       "      <td>56.2</td>\n",
       "      <td>5.82</td>\n",
       "      <td>553</td>\n",
       "    </tr>\n",
       "    <tr>\n",
       "      <th>1</th>\n",
       "      <td>Albania</td>\n",
       "      <td>16.6</td>\n",
       "      <td>28.0</td>\n",
       "      <td>6.55</td>\n",
       "      <td>48.6</td>\n",
       "      <td>9930</td>\n",
       "      <td>4.49</td>\n",
       "      <td>76.3</td>\n",
       "      <td>1.65</td>\n",
       "      <td>4090</td>\n",
       "    </tr>\n",
       "    <tr>\n",
       "      <th>2</th>\n",
       "      <td>Algeria</td>\n",
       "      <td>27.3</td>\n",
       "      <td>38.4</td>\n",
       "      <td>4.17</td>\n",
       "      <td>31.4</td>\n",
       "      <td>12900</td>\n",
       "      <td>16.10</td>\n",
       "      <td>76.5</td>\n",
       "      <td>2.89</td>\n",
       "      <td>4460</td>\n",
       "    </tr>\n",
       "    <tr>\n",
       "      <th>3</th>\n",
       "      <td>Angola</td>\n",
       "      <td>119.0</td>\n",
       "      <td>62.3</td>\n",
       "      <td>2.85</td>\n",
       "      <td>42.9</td>\n",
       "      <td>5900</td>\n",
       "      <td>22.40</td>\n",
       "      <td>60.1</td>\n",
       "      <td>6.16</td>\n",
       "      <td>3530</td>\n",
       "    </tr>\n",
       "    <tr>\n",
       "      <th>4</th>\n",
       "      <td>Antigua and Barbuda</td>\n",
       "      <td>10.3</td>\n",
       "      <td>45.5</td>\n",
       "      <td>6.03</td>\n",
       "      <td>58.9</td>\n",
       "      <td>19100</td>\n",
       "      <td>1.44</td>\n",
       "      <td>76.8</td>\n",
       "      <td>2.13</td>\n",
       "      <td>12200</td>\n",
       "    </tr>\n",
       "  </tbody>\n",
       "</table>\n",
       "</div>"
      ],
      "text/plain": [
       "               country  child_mort  exports  health  imports  income  \\\n",
       "0          Afghanistan        90.2     10.0    7.58     44.9    1610   \n",
       "1              Albania        16.6     28.0    6.55     48.6    9930   \n",
       "2              Algeria        27.3     38.4    4.17     31.4   12900   \n",
       "3               Angola       119.0     62.3    2.85     42.9    5900   \n",
       "4  Antigua and Barbuda        10.3     45.5    6.03     58.9   19100   \n",
       "\n",
       "   inflation  life_expec  total_fer   gdpp  \n",
       "0       9.44        56.2       5.82    553  \n",
       "1       4.49        76.3       1.65   4090  \n",
       "2      16.10        76.5       2.89   4460  \n",
       "3      22.40        60.1       6.16   3530  \n",
       "4       1.44        76.8       2.13  12200  "
      ]
     },
     "execution_count": 6,
     "metadata": {},
     "output_type": "execute_result"
    }
   ],
   "source": [
    "data.head()"
   ]
  },
  {
   "cell_type": "code",
   "execution_count": 7,
   "id": "f6b6f463",
   "metadata": {
    "execution": {
     "iopub.execute_input": "2021-12-04T18:51:25.252475Z",
     "iopub.status.busy": "2021-12-04T18:51:25.251857Z",
     "iopub.status.idle": "2021-12-04T18:51:25.295156Z",
     "shell.execute_reply": "2021-12-04T18:51:25.295643Z",
     "shell.execute_reply.started": "2021-12-04T18:47:57.974340Z"
    },
    "papermill": {
     "duration": 0.091371,
     "end_time": "2021-12-04T18:51:25.295810",
     "exception": false,
     "start_time": "2021-12-04T18:51:25.204439",
     "status": "completed"
    },
    "tags": []
   },
   "outputs": [
    {
     "data": {
      "text/html": [
       "<div>\n",
       "<style scoped>\n",
       "    .dataframe tbody tr th:only-of-type {\n",
       "        vertical-align: middle;\n",
       "    }\n",
       "\n",
       "    .dataframe tbody tr th {\n",
       "        vertical-align: top;\n",
       "    }\n",
       "\n",
       "    .dataframe thead th {\n",
       "        text-align: right;\n",
       "    }\n",
       "</style>\n",
       "<table border=\"1\" class=\"dataframe\">\n",
       "  <thead>\n",
       "    <tr style=\"text-align: right;\">\n",
       "      <th></th>\n",
       "      <th>child_mort</th>\n",
       "      <th>exports</th>\n",
       "      <th>health</th>\n",
       "      <th>imports</th>\n",
       "      <th>income</th>\n",
       "      <th>inflation</th>\n",
       "      <th>life_expec</th>\n",
       "      <th>total_fer</th>\n",
       "      <th>gdpp</th>\n",
       "    </tr>\n",
       "  </thead>\n",
       "  <tbody>\n",
       "    <tr>\n",
       "      <th>count</th>\n",
       "      <td>167.000000</td>\n",
       "      <td>167.000000</td>\n",
       "      <td>167.000000</td>\n",
       "      <td>167.000000</td>\n",
       "      <td>167.000000</td>\n",
       "      <td>167.000000</td>\n",
       "      <td>167.000000</td>\n",
       "      <td>167.000000</td>\n",
       "      <td>167.000000</td>\n",
       "    </tr>\n",
       "    <tr>\n",
       "      <th>mean</th>\n",
       "      <td>38.270060</td>\n",
       "      <td>41.108976</td>\n",
       "      <td>6.815689</td>\n",
       "      <td>46.890215</td>\n",
       "      <td>17144.688623</td>\n",
       "      <td>7.781832</td>\n",
       "      <td>70.555689</td>\n",
       "      <td>2.947964</td>\n",
       "      <td>12964.155689</td>\n",
       "    </tr>\n",
       "    <tr>\n",
       "      <th>std</th>\n",
       "      <td>40.328931</td>\n",
       "      <td>27.412010</td>\n",
       "      <td>2.746837</td>\n",
       "      <td>24.209589</td>\n",
       "      <td>19278.067698</td>\n",
       "      <td>10.570704</td>\n",
       "      <td>8.893172</td>\n",
       "      <td>1.513848</td>\n",
       "      <td>18328.704809</td>\n",
       "    </tr>\n",
       "    <tr>\n",
       "      <th>min</th>\n",
       "      <td>2.600000</td>\n",
       "      <td>0.109000</td>\n",
       "      <td>1.810000</td>\n",
       "      <td>0.065900</td>\n",
       "      <td>609.000000</td>\n",
       "      <td>-4.210000</td>\n",
       "      <td>32.100000</td>\n",
       "      <td>1.150000</td>\n",
       "      <td>231.000000</td>\n",
       "    </tr>\n",
       "    <tr>\n",
       "      <th>25%</th>\n",
       "      <td>8.250000</td>\n",
       "      <td>23.800000</td>\n",
       "      <td>4.920000</td>\n",
       "      <td>30.200000</td>\n",
       "      <td>3355.000000</td>\n",
       "      <td>1.810000</td>\n",
       "      <td>65.300000</td>\n",
       "      <td>1.795000</td>\n",
       "      <td>1330.000000</td>\n",
       "    </tr>\n",
       "    <tr>\n",
       "      <th>50%</th>\n",
       "      <td>19.300000</td>\n",
       "      <td>35.000000</td>\n",
       "      <td>6.320000</td>\n",
       "      <td>43.300000</td>\n",
       "      <td>9960.000000</td>\n",
       "      <td>5.390000</td>\n",
       "      <td>73.100000</td>\n",
       "      <td>2.410000</td>\n",
       "      <td>4660.000000</td>\n",
       "    </tr>\n",
       "    <tr>\n",
       "      <th>75%</th>\n",
       "      <td>62.100000</td>\n",
       "      <td>51.350000</td>\n",
       "      <td>8.600000</td>\n",
       "      <td>58.750000</td>\n",
       "      <td>22800.000000</td>\n",
       "      <td>10.750000</td>\n",
       "      <td>76.800000</td>\n",
       "      <td>3.880000</td>\n",
       "      <td>14050.000000</td>\n",
       "    </tr>\n",
       "    <tr>\n",
       "      <th>max</th>\n",
       "      <td>208.000000</td>\n",
       "      <td>200.000000</td>\n",
       "      <td>17.900000</td>\n",
       "      <td>174.000000</td>\n",
       "      <td>125000.000000</td>\n",
       "      <td>104.000000</td>\n",
       "      <td>82.800000</td>\n",
       "      <td>7.490000</td>\n",
       "      <td>105000.000000</td>\n",
       "    </tr>\n",
       "  </tbody>\n",
       "</table>\n",
       "</div>"
      ],
      "text/plain": [
       "       child_mort     exports      health     imports         income  \\\n",
       "count  167.000000  167.000000  167.000000  167.000000     167.000000   \n",
       "mean    38.270060   41.108976    6.815689   46.890215   17144.688623   \n",
       "std     40.328931   27.412010    2.746837   24.209589   19278.067698   \n",
       "min      2.600000    0.109000    1.810000    0.065900     609.000000   \n",
       "25%      8.250000   23.800000    4.920000   30.200000    3355.000000   \n",
       "50%     19.300000   35.000000    6.320000   43.300000    9960.000000   \n",
       "75%     62.100000   51.350000    8.600000   58.750000   22800.000000   \n",
       "max    208.000000  200.000000   17.900000  174.000000  125000.000000   \n",
       "\n",
       "        inflation  life_expec   total_fer           gdpp  \n",
       "count  167.000000  167.000000  167.000000     167.000000  \n",
       "mean     7.781832   70.555689    2.947964   12964.155689  \n",
       "std     10.570704    8.893172    1.513848   18328.704809  \n",
       "min     -4.210000   32.100000    1.150000     231.000000  \n",
       "25%      1.810000   65.300000    1.795000    1330.000000  \n",
       "50%      5.390000   73.100000    2.410000    4660.000000  \n",
       "75%     10.750000   76.800000    3.880000   14050.000000  \n",
       "max    104.000000   82.800000    7.490000  105000.000000  "
      ]
     },
     "execution_count": 7,
     "metadata": {},
     "output_type": "execute_result"
    }
   ],
   "source": [
    "data.describe()"
   ]
  },
  {
   "cell_type": "code",
   "execution_count": 8,
   "id": "0b41618d",
   "metadata": {
    "execution": {
     "iopub.execute_input": "2021-12-04T18:51:25.404661Z",
     "iopub.status.busy": "2021-12-04T18:51:25.390250Z",
     "iopub.status.idle": "2021-12-04T18:51:25.407993Z",
     "shell.execute_reply": "2021-12-04T18:51:25.407338Z",
     "shell.execute_reply.started": "2021-12-04T18:47:58.010482Z"
    },
    "papermill": {
     "duration": 0.066766,
     "end_time": "2021-12-04T18:51:25.408133",
     "exception": false,
     "start_time": "2021-12-04T18:51:25.341367",
     "status": "completed"
    },
    "tags": []
   },
   "outputs": [
    {
     "name": "stdout",
     "output_type": "stream",
     "text": [
      "<class 'pandas.core.frame.DataFrame'>\n",
      "RangeIndex: 167 entries, 0 to 166\n",
      "Data columns (total 10 columns):\n",
      " #   Column      Non-Null Count  Dtype  \n",
      "---  ------      --------------  -----  \n",
      " 0   country     167 non-null    object \n",
      " 1   child_mort  167 non-null    float64\n",
      " 2   exports     167 non-null    float64\n",
      " 3   health      167 non-null    float64\n",
      " 4   imports     167 non-null    float64\n",
      " 5   income      167 non-null    int64  \n",
      " 6   inflation   167 non-null    float64\n",
      " 7   life_expec  167 non-null    float64\n",
      " 8   total_fer   167 non-null    float64\n",
      " 9   gdpp        167 non-null    int64  \n",
      "dtypes: float64(7), int64(2), object(1)\n",
      "memory usage: 13.2+ KB\n"
     ]
    }
   ],
   "source": [
    "data.info()"
   ]
  },
  {
   "cell_type": "code",
   "execution_count": 9,
   "id": "5dd6211e",
   "metadata": {
    "execution": {
     "iopub.execute_input": "2021-12-04T18:51:25.503247Z",
     "iopub.status.busy": "2021-12-04T18:51:25.502618Z",
     "iopub.status.idle": "2021-12-04T18:51:25.507380Z",
     "shell.execute_reply": "2021-12-04T18:51:25.508001Z",
     "shell.execute_reply.started": "2021-12-04T18:47:58.025239Z"
    },
    "papermill": {
     "duration": 0.054034,
     "end_time": "2021-12-04T18:51:25.508182",
     "exception": false,
     "start_time": "2021-12-04T18:51:25.454148",
     "status": "completed"
    },
    "tags": []
   },
   "outputs": [
    {
     "data": {
      "text/plain": [
       "Index(['country', 'child_mort', 'exports', 'health', 'imports', 'income',\n",
       "       'inflation', 'life_expec', 'total_fer', 'gdpp'],\n",
       "      dtype='object')"
      ]
     },
     "execution_count": 9,
     "metadata": {},
     "output_type": "execute_result"
    }
   ],
   "source": [
    "columns = data.columns\n",
    "columns"
   ]
  },
  {
   "cell_type": "markdown",
   "id": "d5426176",
   "metadata": {
    "papermill": {
     "duration": 0.046055,
     "end_time": "2021-12-04T18:51:25.600263",
     "exception": false,
     "start_time": "2021-12-04T18:51:25.554208",
     "status": "completed"
    },
    "tags": []
   },
   "source": [
    "# ****Convert data from string and numbers"
   ]
  },
  {
   "cell_type": "code",
   "execution_count": 10,
   "id": "84c90c04",
   "metadata": {
    "execution": {
     "iopub.execute_input": "2021-12-04T18:51:25.695958Z",
     "iopub.status.busy": "2021-12-04T18:51:25.695282Z",
     "iopub.status.idle": "2021-12-04T18:51:25.698541Z",
     "shell.execute_reply": "2021-12-04T18:51:25.699141Z",
     "shell.execute_reply.started": "2021-12-04T18:47:58.033268Z"
    },
    "papermill": {
     "duration": 0.052763,
     "end_time": "2021-12-04T18:51:25.699336",
     "exception": false,
     "start_time": "2021-12-04T18:51:25.646573",
     "status": "completed"
    },
    "tags": []
   },
   "outputs": [],
   "source": [
    "#oe=OrdinalEncoder()\n",
    "##convert train_data\n",
    "#for col in data:\n",
    " #   data[col]=oe.fit_transform(np.asarray(data[col].astype('str')).reshape(-1,1))"
   ]
  },
  {
   "cell_type": "code",
   "execution_count": 11,
   "id": "aca1e00e",
   "metadata": {
    "execution": {
     "iopub.execute_input": "2021-12-04T18:51:25.796110Z",
     "iopub.status.busy": "2021-12-04T18:51:25.795450Z",
     "iopub.status.idle": "2021-12-04T18:51:25.798021Z",
     "shell.execute_reply": "2021-12-04T18:51:25.798597Z",
     "shell.execute_reply.started": "2021-12-04T18:47:58.041940Z"
    },
    "papermill": {
     "duration": 0.052567,
     "end_time": "2021-12-04T18:51:25.798756",
     "exception": false,
     "start_time": "2021-12-04T18:51:25.746189",
     "status": "completed"
    },
    "tags": []
   },
   "outputs": [],
   "source": [
    "\n",
    "#print(data.shape)\n",
    "#data.head()"
   ]
  },
  {
   "cell_type": "code",
   "execution_count": 12,
   "id": "1759af6c",
   "metadata": {
    "execution": {
     "iopub.execute_input": "2021-12-04T18:51:25.894470Z",
     "iopub.status.busy": "2021-12-04T18:51:25.893818Z",
     "iopub.status.idle": "2021-12-04T18:51:25.899267Z",
     "shell.execute_reply": "2021-12-04T18:51:25.899791Z",
     "shell.execute_reply.started": "2021-12-04T18:47:58.052394Z"
    },
    "papermill": {
     "duration": 0.055026,
     "end_time": "2021-12-04T18:51:25.899990",
     "exception": false,
     "start_time": "2021-12-04T18:51:25.844964",
     "status": "completed"
    },
    "tags": []
   },
   "outputs": [],
   "source": [
    "from sklearn.preprocessing import LabelEncoder\n",
    "le = LabelEncoder()\n",
    "le.fit(data['country'])\n",
    "le.transform(data['country'])\n",
    "data['country'] = le.transform(data['country'])"
   ]
  },
  {
   "cell_type": "code",
   "execution_count": 13,
   "id": "df1d8caf",
   "metadata": {
    "execution": {
     "iopub.execute_input": "2021-12-04T18:51:25.995775Z",
     "iopub.status.busy": "2021-12-04T18:51:25.995117Z",
     "iopub.status.idle": "2021-12-04T18:51:26.014481Z",
     "shell.execute_reply": "2021-12-04T18:51:26.013945Z",
     "shell.execute_reply.started": "2021-12-04T18:47:58.067096Z"
    },
    "papermill": {
     "duration": 0.068625,
     "end_time": "2021-12-04T18:51:26.014628",
     "exception": false,
     "start_time": "2021-12-04T18:51:25.946003",
     "status": "completed"
    },
    "tags": []
   },
   "outputs": [
    {
     "name": "stdout",
     "output_type": "stream",
     "text": [
      "(167, 10)\n"
     ]
    },
    {
     "data": {
      "text/html": [
       "<div>\n",
       "<style scoped>\n",
       "    .dataframe tbody tr th:only-of-type {\n",
       "        vertical-align: middle;\n",
       "    }\n",
       "\n",
       "    .dataframe tbody tr th {\n",
       "        vertical-align: top;\n",
       "    }\n",
       "\n",
       "    .dataframe thead th {\n",
       "        text-align: right;\n",
       "    }\n",
       "</style>\n",
       "<table border=\"1\" class=\"dataframe\">\n",
       "  <thead>\n",
       "    <tr style=\"text-align: right;\">\n",
       "      <th></th>\n",
       "      <th>country</th>\n",
       "      <th>child_mort</th>\n",
       "      <th>exports</th>\n",
       "      <th>health</th>\n",
       "      <th>imports</th>\n",
       "      <th>income</th>\n",
       "      <th>inflation</th>\n",
       "      <th>life_expec</th>\n",
       "      <th>total_fer</th>\n",
       "      <th>gdpp</th>\n",
       "    </tr>\n",
       "  </thead>\n",
       "  <tbody>\n",
       "    <tr>\n",
       "      <th>0</th>\n",
       "      <td>0</td>\n",
       "      <td>90.2</td>\n",
       "      <td>10.0</td>\n",
       "      <td>7.58</td>\n",
       "      <td>44.9</td>\n",
       "      <td>1610</td>\n",
       "      <td>9.44</td>\n",
       "      <td>56.2</td>\n",
       "      <td>5.82</td>\n",
       "      <td>553</td>\n",
       "    </tr>\n",
       "    <tr>\n",
       "      <th>1</th>\n",
       "      <td>1</td>\n",
       "      <td>16.6</td>\n",
       "      <td>28.0</td>\n",
       "      <td>6.55</td>\n",
       "      <td>48.6</td>\n",
       "      <td>9930</td>\n",
       "      <td>4.49</td>\n",
       "      <td>76.3</td>\n",
       "      <td>1.65</td>\n",
       "      <td>4090</td>\n",
       "    </tr>\n",
       "    <tr>\n",
       "      <th>2</th>\n",
       "      <td>2</td>\n",
       "      <td>27.3</td>\n",
       "      <td>38.4</td>\n",
       "      <td>4.17</td>\n",
       "      <td>31.4</td>\n",
       "      <td>12900</td>\n",
       "      <td>16.10</td>\n",
       "      <td>76.5</td>\n",
       "      <td>2.89</td>\n",
       "      <td>4460</td>\n",
       "    </tr>\n",
       "    <tr>\n",
       "      <th>3</th>\n",
       "      <td>3</td>\n",
       "      <td>119.0</td>\n",
       "      <td>62.3</td>\n",
       "      <td>2.85</td>\n",
       "      <td>42.9</td>\n",
       "      <td>5900</td>\n",
       "      <td>22.40</td>\n",
       "      <td>60.1</td>\n",
       "      <td>6.16</td>\n",
       "      <td>3530</td>\n",
       "    </tr>\n",
       "    <tr>\n",
       "      <th>4</th>\n",
       "      <td>4</td>\n",
       "      <td>10.3</td>\n",
       "      <td>45.5</td>\n",
       "      <td>6.03</td>\n",
       "      <td>58.9</td>\n",
       "      <td>19100</td>\n",
       "      <td>1.44</td>\n",
       "      <td>76.8</td>\n",
       "      <td>2.13</td>\n",
       "      <td>12200</td>\n",
       "    </tr>\n",
       "  </tbody>\n",
       "</table>\n",
       "</div>"
      ],
      "text/plain": [
       "   country  child_mort  exports  health  imports  income  inflation  \\\n",
       "0        0        90.2     10.0    7.58     44.9    1610       9.44   \n",
       "1        1        16.6     28.0    6.55     48.6    9930       4.49   \n",
       "2        2        27.3     38.4    4.17     31.4   12900      16.10   \n",
       "3        3       119.0     62.3    2.85     42.9    5900      22.40   \n",
       "4        4        10.3     45.5    6.03     58.9   19100       1.44   \n",
       "\n",
       "   life_expec  total_fer   gdpp  \n",
       "0        56.2       5.82    553  \n",
       "1        76.3       1.65   4090  \n",
       "2        76.5       2.89   4460  \n",
       "3        60.1       6.16   3530  \n",
       "4        76.8       2.13  12200  "
      ]
     },
     "execution_count": 13,
     "metadata": {},
     "output_type": "execute_result"
    }
   ],
   "source": [
    "print(data.shape)\n",
    "data.head()"
   ]
  },
  {
   "cell_type": "markdown",
   "id": "bc01b545",
   "metadata": {
    "papermill": {
     "duration": 0.04672,
     "end_time": "2021-12-04T18:51:26.108257",
     "exception": false,
     "start_time": "2021-12-04T18:51:26.061537",
     "status": "completed"
    },
    "tags": []
   },
   "source": [
    "# ****Data Distribution"
   ]
  },
  {
   "cell_type": "code",
   "execution_count": 14,
   "id": "98b06d56",
   "metadata": {
    "execution": {
     "iopub.execute_input": "2021-12-04T18:51:26.211582Z",
     "iopub.status.busy": "2021-12-04T18:51:26.210929Z",
     "iopub.status.idle": "2021-12-04T18:51:26.477262Z",
     "shell.execute_reply": "2021-12-04T18:51:26.476719Z",
     "shell.execute_reply.started": "2021-12-04T18:47:58.090594Z"
    },
    "papermill": {
     "duration": 0.321971,
     "end_time": "2021-12-04T18:51:26.477399",
     "exception": false,
     "start_time": "2021-12-04T18:51:26.155428",
     "status": "completed"
    },
    "tags": []
   },
   "outputs": [
    {
     "data": {
      "image/png": "[encoded data removed]",
      "text/plain": [
       "<Figure size 864x360 with 1 Axes>"
      ]
     },
     "metadata": {
      "needs_background": "light"
     },
     "output_type": "display_data"
    }
   ],
   "source": [
    "plt.figure(figsize=(12,5))\n",
    "plt.title(\"Child Mortality: Death of children \")\n",
    "ax = sns.histplot(data[\"child_mort\"])"
   ]
  },
  {
   "cell_type": "code",
   "execution_count": 15,
   "id": "d8da9626",
   "metadata": {
    "execution": {
     "iopub.execute_input": "2021-12-04T18:51:26.578161Z",
     "iopub.status.busy": "2021-12-04T18:51:26.577537Z",
     "iopub.status.idle": "2021-12-04T18:51:26.867978Z",
     "shell.execute_reply": "2021-12-04T18:51:26.868558Z",
     "shell.execute_reply.started": "2021-12-04T18:47:58.349254Z"
    },
    "papermill": {
     "duration": 0.3437,
     "end_time": "2021-12-04T18:51:26.868728",
     "exception": false,
     "start_time": "2021-12-04T18:51:26.525028",
     "status": "completed"
    },
    "tags": []
   },
   "outputs": [
    {
     "data": {
      "image/png": "[encoded data removed]",
      "text/plain": [
       "<Figure size 864x360 with 1 Axes>"
      ]
     },
     "metadata": {
      "needs_background": "light"
     },
     "output_type": "display_data"
    }
   ],
   "source": [
    "plt.figure(figsize=(12,5))\n",
    "plt.title(\"Exports: Exports of goods and services per capita.\")\n",
    "ax = sns.histplot(data[\"exports\"])"
   ]
  },
  {
   "cell_type": "code",
   "execution_count": 16,
   "id": "5d0cc330",
   "metadata": {
    "execution": {
     "iopub.execute_input": "2021-12-04T18:51:26.984976Z",
     "iopub.status.busy": "2021-12-04T18:51:26.984264Z",
     "iopub.status.idle": "2021-12-04T18:51:27.241420Z",
     "shell.execute_reply": "2021-12-04T18:51:27.241880Z",
     "shell.execute_reply.started": "2021-12-04T18:47:58.677366Z"
    },
    "papermill": {
     "duration": 0.324665,
     "end_time": "2021-12-04T18:51:27.242050",
     "exception": false,
     "start_time": "2021-12-04T18:51:26.917385",
     "status": "completed"
    },
    "tags": []
   },
   "outputs": [
    {
     "data": {
      "image/png": "[encoded data removed]",
      "text/plain": [
       "<Figure size 864x360 with 1 Axes>"
      ]
     },
     "metadata": {
      "needs_background": "light"
     },
     "output_type": "display_data"
    }
   ],
   "source": [
    "plt.figure(figsize=(12,5))\n",
    "plt.title(\"Imports: Imports of goods and services per capita. \")\n",
    "ax = sns.histplot(data[\"imports\"])"
   ]
  },
  {
   "cell_type": "code",
   "execution_count": 17,
   "id": "6959fbd4",
   "metadata": {
    "execution": {
     "iopub.execute_input": "2021-12-04T18:51:27.344798Z",
     "iopub.status.busy": "2021-12-04T18:51:27.344184Z",
     "iopub.status.idle": "2021-12-04T18:51:27.613957Z",
     "shell.execute_reply": "2021-12-04T18:51:27.614441Z",
     "shell.execute_reply.started": "2021-12-04T18:47:58.963522Z"
    },
    "papermill": {
     "duration": 0.323113,
     "end_time": "2021-12-04T18:51:27.614607",
     "exception": false,
     "start_time": "2021-12-04T18:51:27.291494",
     "status": "completed"
    },
    "tags": []
   },
   "outputs": [
    {
     "data": {
      "image/png": "[encoded data removed]",
      "text/plain": [
       "<Figure size 864x360 with 1 Axes>"
      ]
     },
     "metadata": {
      "needs_background": "light"
     },
     "output_type": "display_data"
    }
   ],
   "source": [
    "plt.figure(figsize=(12,5))\n",
    "plt.title(\"Health: Total health spending per capita.\")\n",
    "ax = sns.histplot(data[\"health\"])"
   ]
  },
  {
   "cell_type": "code",
   "execution_count": 18,
   "id": "b2fd96d8",
   "metadata": {
    "execution": {
     "iopub.execute_input": "2021-12-04T18:51:27.733861Z",
     "iopub.status.busy": "2021-12-04T18:51:27.732559Z",
     "iopub.status.idle": "2021-12-04T18:51:27.943935Z",
     "shell.execute_reply": "2021-12-04T18:51:27.943395Z",
     "shell.execute_reply.started": "2021-12-04T18:47:59.255994Z"
    },
    "papermill": {
     "duration": 0.2797,
     "end_time": "2021-12-04T18:51:27.944085",
     "exception": false,
     "start_time": "2021-12-04T18:51:27.664385",
     "status": "completed"
    },
    "tags": []
   },
   "outputs": [
    {
     "data": {
      "image/png": "[encoded data removed]",
      "text/plain": [
       "<Figure size 864x360 with 1 Axes>"
      ]
     },
     "metadata": {
      "needs_background": "light"
     },
     "output_type": "display_data"
    }
   ],
   "source": [
    "plt.figure(figsize=(12,5))\n",
    "plt.title(\"Income: Net income per person\")\n",
    "ax = sns.histplot(data[\"income\"])"
   ]
  },
  {
   "cell_type": "code",
   "execution_count": 19,
   "id": "5d5f6378",
   "metadata": {
    "execution": {
     "iopub.execute_input": "2021-12-04T18:51:28.050547Z",
     "iopub.status.busy": "2021-12-04T18:51:28.049878Z",
     "iopub.status.idle": "2021-12-04T18:51:28.339357Z",
     "shell.execute_reply": "2021-12-04T18:51:28.339876Z",
     "shell.execute_reply.started": "2021-12-04T18:47:59.529831Z"
    },
    "papermill": {
     "duration": 0.345029,
     "end_time": "2021-12-04T18:51:28.340048",
     "exception": false,
     "start_time": "2021-12-04T18:51:27.995019",
     "status": "completed"
    },
    "tags": []
   },
   "outputs": [
    {
     "data": {
      "image/png": "[encoded data removed]",
      "text/plain": [
       "<Figure size 864x360 with 1 Axes>"
      ]
     },
     "metadata": {
      "needs_background": "light"
     },
     "output_type": "display_data"
    }
   ],
   "source": [
    "plt.figure(figsize=(12,5))\n",
    "plt.title(\"Inflation: The measurement of the annual growth rate \")\n",
    "ax = sns.histplot(data[\"inflation\"])"
   ]
  },
  {
   "cell_type": "code",
   "execution_count": 20,
   "id": "071ed15b",
   "metadata": {
    "execution": {
     "iopub.execute_input": "2021-12-04T18:51:28.453245Z",
     "iopub.status.busy": "2021-12-04T18:51:28.452197Z",
     "iopub.status.idle": "2021-12-04T18:51:28.713419Z",
     "shell.execute_reply": "2021-12-04T18:51:28.712882Z",
     "shell.execute_reply.started": "2021-12-04T18:47:59.822949Z"
    },
    "papermill": {
     "duration": 0.321141,
     "end_time": "2021-12-04T18:51:28.713567",
     "exception": false,
     "start_time": "2021-12-04T18:51:28.392426",
     "status": "completed"
    },
    "tags": []
   },
   "outputs": [
    {
     "data": {
      "image/png": "[encoded data removed]",
      "text/plain": [
       "<Figure size 864x360 with 1 Axes>"
      ]
     },
     "metadata": {
      "needs_background": "light"
     },
     "output_type": "display_data"
    }
   ],
   "source": [
    "plt.figure(figsize=(12,5))\n",
    "plt.title(\"Life expectancy: The average number of years a new born child would live if the current mortality patterns are to remain the same\")\n",
    "ax = sns.histplot(data[\"life_expec\"])"
   ]
  },
  {
   "cell_type": "markdown",
   "id": "22a314d6",
   "metadata": {
    "papermill": {
     "duration": 0.053063,
     "end_time": "2021-12-04T18:51:28.819187",
     "exception": false,
     "start_time": "2021-12-04T18:51:28.766124",
     "status": "completed"
    },
    "tags": []
   },
   "source": [
    "# ****Correlation"
   ]
  },
  {
   "cell_type": "code",
   "execution_count": 21,
   "id": "19ed8f0e",
   "metadata": {
    "execution": {
     "iopub.execute_input": "2021-12-04T18:51:28.928584Z",
     "iopub.status.busy": "2021-12-04T18:51:28.927460Z",
     "iopub.status.idle": "2021-12-04T18:51:29.894503Z",
     "shell.execute_reply": "2021-12-04T18:51:29.894962Z",
     "shell.execute_reply.started": "2021-12-04T18:48:00.097736Z"
    },
    "papermill": {
     "duration": 1.023346,
     "end_time": "2021-12-04T18:51:29.895135",
     "exception": false,
     "start_time": "2021-12-04T18:51:28.871789",
     "status": "completed"
    },
    "tags": []
   },
   "outputs": [
    {
     "data": {
      "text/plain": [
       "<AxesSubplot:>"
      ]
     },
     "execution_count": 21,
     "metadata": {},
     "output_type": "execute_result"
    },
    {
     "data": {
      "image/png": "[encoded data removed]",
      "text/plain": [
       "<Figure size 1080x720 with 2 Axes>"
      ]
     },
     "metadata": {
      "needs_background": "light"
     },
     "output_type": "display_data"
    }
   ],
   "source": [
    "plt.figure(figsize=(15,10))\n",
    "sns.heatmap(data.corr( ),annot=True)"
   ]
  },
  {
   "cell_type": "code",
   "execution_count": null,
   "id": "9ebb1248",
   "metadata": {
    "papermill": {
     "duration": 0.054711,
     "end_time": "2021-12-04T18:51:30.006489",
     "exception": false,
     "start_time": "2021-12-04T18:51:29.951778",
     "status": "completed"
    },
    "tags": []
   },
   "outputs": [],
   "source": []
  },
  {
   "cell_type": "markdown",
   "id": "7823feb7",
   "metadata": {
    "papermill": {
     "duration": 0.055449,
     "end_time": "2021-12-04T18:51:30.116927",
     "exception": false,
     "start_time": "2021-12-04T18:51:30.061478",
     "status": "completed"
    },
    "tags": []
   },
   "source": [
    "# ****Scaling Data"
   ]
  },
  {
   "cell_type": "code",
   "execution_count": 22,
   "id": "53aab9a8",
   "metadata": {
    "execution": {
     "iopub.execute_input": "2021-12-04T18:51:30.237611Z",
     "iopub.status.busy": "2021-12-04T18:51:30.233946Z",
     "iopub.status.idle": "2021-12-04T18:51:30.240734Z",
     "shell.execute_reply": "2021-12-04T18:51:30.240130Z",
     "shell.execute_reply.started": "2021-12-04T18:48:00.865117Z"
    },
    "papermill": {
     "duration": 0.068464,
     "end_time": "2021-12-04T18:51:30.240897",
     "exception": false,
     "start_time": "2021-12-04T18:51:30.172433",
     "status": "completed"
    },
    "tags": []
   },
   "outputs": [],
   "source": [
    "scalarModel = StandardScaler()\n",
    "data = scalarModel.fit_transform(data)"
   ]
  },
  {
   "cell_type": "code",
   "execution_count": 23,
   "id": "e4062a40",
   "metadata": {
    "execution": {
     "iopub.execute_input": "2021-12-04T18:51:30.360063Z",
     "iopub.status.busy": "2021-12-04T18:51:30.359377Z",
     "iopub.status.idle": "2021-12-04T18:51:30.362138Z",
     "shell.execute_reply": "2021-12-04T18:51:30.362798Z",
     "shell.execute_reply.started": "2021-12-04T18:48:00.874401Z"
    },
    "papermill": {
     "duration": 0.065803,
     "end_time": "2021-12-04T18:51:30.362987",
     "exception": false,
     "start_time": "2021-12-04T18:51:30.297184",
     "status": "completed"
    },
    "tags": []
   },
   "outputs": [
    {
     "data": {
      "text/plain": [
       "array([[-1.72171011,  1.29153238, -1.13827979, ..., -1.61909203,\n",
       "         1.90288227, -0.67917961],\n",
       "       [-1.70096662, -0.5389489 , -0.47965843, ...,  0.64786643,\n",
       "        -0.85997281, -0.48562324],\n",
       "       [-1.68022312, -0.27283273, -0.09912164, ...,  0.67042323,\n",
       "        -0.0384044 , -0.46537561],\n",
       "       ...,\n",
       "       [ 1.68022312, -0.37231541,  1.13030491, ...,  0.28695762,\n",
       "        -0.66120626, -0.63775406],\n",
       "       [ 1.70096662,  0.44841668, -0.40647827, ..., -0.34463279,\n",
       "         1.14094382, -0.63775406],\n",
       "       [ 1.72171011,  1.11495062, -0.15034774, ..., -2.09278484,\n",
       "         1.6246091 , -0.62954556]])"
      ]
     },
     "execution_count": 23,
     "metadata": {},
     "output_type": "execute_result"
    }
   ],
   "source": [
    "data"
   ]
  },
  {
   "cell_type": "code",
   "execution_count": 24,
   "id": "bdf6e3da",
   "metadata": {
    "execution": {
     "iopub.execute_input": "2021-12-04T18:51:30.478750Z",
     "iopub.status.busy": "2021-12-04T18:51:30.478142Z",
     "iopub.status.idle": "2021-12-04T18:51:30.497268Z",
     "shell.execute_reply": "2021-12-04T18:51:30.497740Z",
     "shell.execute_reply.started": "2021-12-04T18:48:00.889057Z"
    },
    "papermill": {
     "duration": 0.078045,
     "end_time": "2021-12-04T18:51:30.497934",
     "exception": false,
     "start_time": "2021-12-04T18:51:30.419889",
     "status": "completed"
    },
    "tags": []
   },
   "outputs": [
    {
     "data": {
      "text/html": [
       "<div>\n",
       "<style scoped>\n",
       "    .dataframe tbody tr th:only-of-type {\n",
       "        vertical-align: middle;\n",
       "    }\n",
       "\n",
       "    .dataframe tbody tr th {\n",
       "        vertical-align: top;\n",
       "    }\n",
       "\n",
       "    .dataframe thead th {\n",
       "        text-align: right;\n",
       "    }\n",
       "</style>\n",
       "<table border=\"1\" class=\"dataframe\">\n",
       "  <thead>\n",
       "    <tr style=\"text-align: right;\">\n",
       "      <th></th>\n",
       "      <th>country</th>\n",
       "      <th>child_mort</th>\n",
       "      <th>exports</th>\n",
       "      <th>health</th>\n",
       "      <th>imports</th>\n",
       "      <th>income</th>\n",
       "      <th>inflation</th>\n",
       "      <th>life_expec</th>\n",
       "      <th>total_fer</th>\n",
       "      <th>gdpp</th>\n",
       "    </tr>\n",
       "  </thead>\n",
       "  <tbody>\n",
       "    <tr>\n",
       "      <th>0</th>\n",
       "      <td>-1.721710</td>\n",
       "      <td>1.291532</td>\n",
       "      <td>-1.138280</td>\n",
       "      <td>0.279088</td>\n",
       "      <td>-0.082455</td>\n",
       "      <td>-0.808245</td>\n",
       "      <td>0.157336</td>\n",
       "      <td>-1.619092</td>\n",
       "      <td>1.902882</td>\n",
       "      <td>-0.679180</td>\n",
       "    </tr>\n",
       "    <tr>\n",
       "      <th>1</th>\n",
       "      <td>-1.700967</td>\n",
       "      <td>-0.538949</td>\n",
       "      <td>-0.479658</td>\n",
       "      <td>-0.097016</td>\n",
       "      <td>0.070837</td>\n",
       "      <td>-0.375369</td>\n",
       "      <td>-0.312347</td>\n",
       "      <td>0.647866</td>\n",
       "      <td>-0.859973</td>\n",
       "      <td>-0.485623</td>\n",
       "    </tr>\n",
       "    <tr>\n",
       "      <th>2</th>\n",
       "      <td>-1.680223</td>\n",
       "      <td>-0.272833</td>\n",
       "      <td>-0.099122</td>\n",
       "      <td>-0.966073</td>\n",
       "      <td>-0.641762</td>\n",
       "      <td>-0.220844</td>\n",
       "      <td>0.789274</td>\n",
       "      <td>0.670423</td>\n",
       "      <td>-0.038404</td>\n",
       "      <td>-0.465376</td>\n",
       "    </tr>\n",
       "    <tr>\n",
       "      <th>3</th>\n",
       "      <td>-1.659480</td>\n",
       "      <td>2.007808</td>\n",
       "      <td>0.775381</td>\n",
       "      <td>-1.448071</td>\n",
       "      <td>-0.165315</td>\n",
       "      <td>-0.585043</td>\n",
       "      <td>1.387054</td>\n",
       "      <td>-1.179234</td>\n",
       "      <td>2.128151</td>\n",
       "      <td>-0.516268</td>\n",
       "    </tr>\n",
       "    <tr>\n",
       "      <th>4</th>\n",
       "      <td>-1.638736</td>\n",
       "      <td>-0.695634</td>\n",
       "      <td>0.160668</td>\n",
       "      <td>-0.286894</td>\n",
       "      <td>0.497568</td>\n",
       "      <td>0.101732</td>\n",
       "      <td>-0.601749</td>\n",
       "      <td>0.704258</td>\n",
       "      <td>-0.541946</td>\n",
       "      <td>-0.041817</td>\n",
       "    </tr>\n",
       "    <tr>\n",
       "      <th>...</th>\n",
       "      <td>...</td>\n",
       "      <td>...</td>\n",
       "      <td>...</td>\n",
       "      <td>...</td>\n",
       "      <td>...</td>\n",
       "      <td>...</td>\n",
       "      <td>...</td>\n",
       "      <td>...</td>\n",
       "      <td>...</td>\n",
       "      <td>...</td>\n",
       "    </tr>\n",
       "    <tr>\n",
       "      <th>162</th>\n",
       "      <td>1.638736</td>\n",
       "      <td>-0.225578</td>\n",
       "      <td>0.200917</td>\n",
       "      <td>-0.571711</td>\n",
       "      <td>0.240700</td>\n",
       "      <td>-0.738527</td>\n",
       "      <td>-0.489784</td>\n",
       "      <td>-0.852161</td>\n",
       "      <td>0.365754</td>\n",
       "      <td>-0.546913</td>\n",
       "    </tr>\n",
       "    <tr>\n",
       "      <th>163</th>\n",
       "      <td>1.659480</td>\n",
       "      <td>-0.526514</td>\n",
       "      <td>-0.461363</td>\n",
       "      <td>-0.695862</td>\n",
       "      <td>-1.213499</td>\n",
       "      <td>-0.033542</td>\n",
       "      <td>3.616865</td>\n",
       "      <td>0.546361</td>\n",
       "      <td>-0.316678</td>\n",
       "      <td>0.029323</td>\n",
       "    </tr>\n",
       "    <tr>\n",
       "      <th>164</th>\n",
       "      <td>1.680223</td>\n",
       "      <td>-0.372315</td>\n",
       "      <td>1.130305</td>\n",
       "      <td>0.008877</td>\n",
       "      <td>1.380030</td>\n",
       "      <td>-0.658404</td>\n",
       "      <td>0.409732</td>\n",
       "      <td>0.286958</td>\n",
       "      <td>-0.661206</td>\n",
       "      <td>-0.637754</td>\n",
       "    </tr>\n",
       "    <tr>\n",
       "      <th>165</th>\n",
       "      <td>1.700967</td>\n",
       "      <td>0.448417</td>\n",
       "      <td>-0.406478</td>\n",
       "      <td>-0.597272</td>\n",
       "      <td>-0.517472</td>\n",
       "      <td>-0.658924</td>\n",
       "      <td>1.500916</td>\n",
       "      <td>-0.344633</td>\n",
       "      <td>1.140944</td>\n",
       "      <td>-0.637754</td>\n",
       "    </tr>\n",
       "    <tr>\n",
       "      <th>166</th>\n",
       "      <td>1.721710</td>\n",
       "      <td>1.114951</td>\n",
       "      <td>-0.150348</td>\n",
       "      <td>-0.338015</td>\n",
       "      <td>-0.662477</td>\n",
       "      <td>-0.721358</td>\n",
       "      <td>0.590015</td>\n",
       "      <td>-2.092785</td>\n",
       "      <td>1.624609</td>\n",
       "      <td>-0.629546</td>\n",
       "    </tr>\n",
       "  </tbody>\n",
       "</table>\n",
       "<p>167 rows × 10 columns</p>\n",
       "</div>"
      ],
      "text/plain": [
       "      country  child_mort   exports    health   imports    income  inflation  \\\n",
       "0   -1.721710    1.291532 -1.138280  0.279088 -0.082455 -0.808245   0.157336   \n",
       "1   -1.700967   -0.538949 -0.479658 -0.097016  0.070837 -0.375369  -0.312347   \n",
       "2   -1.680223   -0.272833 -0.099122 -0.966073 -0.641762 -0.220844   0.789274   \n",
       "3   -1.659480    2.007808  0.775381 -1.448071 -0.165315 -0.585043   1.387054   \n",
       "4   -1.638736   -0.695634  0.160668 -0.286894  0.497568  0.101732  -0.601749   \n",
       "..        ...         ...       ...       ...       ...       ...        ...   \n",
       "162  1.638736   -0.225578  0.200917 -0.571711  0.240700 -0.738527  -0.489784   \n",
       "163  1.659480   -0.526514 -0.461363 -0.695862 -1.213499 -0.033542   3.616865   \n",
       "164  1.680223   -0.372315  1.130305  0.008877  1.380030 -0.658404   0.409732   \n",
       "165  1.700967    0.448417 -0.406478 -0.597272 -0.517472 -0.658924   1.500916   \n",
       "166  1.721710    1.114951 -0.150348 -0.338015 -0.662477 -0.721358   0.590015   \n",
       "\n",
       "     life_expec  total_fer      gdpp  \n",
       "0     -1.619092   1.902882 -0.679180  \n",
       "1      0.647866  -0.859973 -0.485623  \n",
       "2      0.670423  -0.038404 -0.465376  \n",
       "3     -1.179234   2.128151 -0.516268  \n",
       "4      0.704258  -0.541946 -0.041817  \n",
       "..          ...        ...       ...  \n",
       "162   -0.852161   0.365754 -0.546913  \n",
       "163    0.546361  -0.316678  0.029323  \n",
       "164    0.286958  -0.661206 -0.637754  \n",
       "165   -0.344633   1.140944 -0.637754  \n",
       "166   -2.092785   1.624609 -0.629546  \n",
       "\n",
       "[167 rows x 10 columns]"
      ]
     },
     "execution_count": 24,
     "metadata": {},
     "output_type": "execute_result"
    }
   ],
   "source": [
    "\n",
    "data = pd.DataFrame(data , columns = columns )\n",
    "data"
   ]
  },
  {
   "cell_type": "code",
   "execution_count": 25,
   "id": "adc970bf",
   "metadata": {
    "execution": {
     "iopub.execute_input": "2021-12-04T18:51:30.616013Z",
     "iopub.status.busy": "2021-12-04T18:51:30.613082Z",
     "iopub.status.idle": "2021-12-04T18:51:30.619242Z",
     "shell.execute_reply": "2021-12-04T18:51:30.619785Z",
     "shell.execute_reply.started": "2021-12-04T18:48:00.915937Z"
    },
    "papermill": {
     "duration": 0.065407,
     "end_time": "2021-12-04T18:51:30.619968",
     "exception": false,
     "start_time": "2021-12-04T18:51:30.554561",
     "status": "completed"
    },
    "tags": []
   },
   "outputs": [
    {
     "data": {
      "text/plain": [
       "array([[-1.72171011,  1.29153238, -1.13827979, ..., -1.61909203,\n",
       "         1.90288227, -0.67917961],\n",
       "       [-1.70096662, -0.5389489 , -0.47965843, ...,  0.64786643,\n",
       "        -0.85997281, -0.48562324],\n",
       "       [-1.68022312, -0.27283273, -0.09912164, ...,  0.67042323,\n",
       "        -0.0384044 , -0.46537561],\n",
       "       ...,\n",
       "       [ 1.68022312, -0.37231541,  1.13030491, ...,  0.28695762,\n",
       "        -0.66120626, -0.63775406],\n",
       "       [ 1.70096662,  0.44841668, -0.40647827, ..., -0.34463279,\n",
       "         1.14094382, -0.63775406],\n",
       "       [ 1.72171011,  1.11495062, -0.15034774, ..., -2.09278484,\n",
       "         1.6246091 , -0.62954556]])"
      ]
     },
     "execution_count": 25,
     "metadata": {},
     "output_type": "execute_result"
    }
   ],
   "source": [
    "data = data.values\n",
    "data"
   ]
  },
  {
   "cell_type": "markdown",
   "id": "a35a081b",
   "metadata": {
    "papermill": {
     "duration": 0.05567,
     "end_time": "2021-12-04T18:51:30.732194",
     "exception": false,
     "start_time": "2021-12-04T18:51:30.676524",
     "status": "completed"
    },
    "tags": []
   },
   "source": [
    "# ****Apply Fuzzy C Means Algorithm"
   ]
  },
  {
   "cell_type": "code",
   "execution_count": 26,
   "id": "76cf928d",
   "metadata": {
    "execution": {
     "iopub.execute_input": "2021-12-04T18:51:30.848079Z",
     "iopub.status.busy": "2021-12-04T18:51:30.847464Z",
     "iopub.status.idle": "2021-12-04T18:51:30.858266Z",
     "shell.execute_reply": "2021-12-04T18:51:30.858865Z",
     "shell.execute_reply.started": "2021-12-04T18:48:00.930385Z"
    },
    "papermill": {
     "duration": 0.069967,
     "end_time": "2021-12-04T18:51:30.859033",
     "exception": false,
     "start_time": "2021-12-04T18:51:30.789066",
     "status": "completed"
    },
    "tags": []
   },
   "outputs": [
    {
     "data": {
      "text/plain": [
       "array([[-0.03255914, -0.52501628,  0.19855278,  0.25844621,  0.08065174,\n",
       "         0.37472137, -0.2299814 ,  0.54650946, -0.54720725,  0.36627318],\n",
       "       [ 0.02049517,  0.62481996, -0.25615092, -0.26916076, -0.11869997,\n",
       "        -0.43777814,  0.19470733, -0.6318028 ,  0.65786908, -0.40683113]])"
      ]
     },
     "execution_count": 26,
     "metadata": {},
     "output_type": "execute_result"
    }
   ],
   "source": [
    "fcmModel = FCM(n_clusters = 2)\n",
    "fcmModel.fit(data)\n",
    "center = fcmModel.centers\n",
    "center"
   ]
  },
  {
   "cell_type": "code",
   "execution_count": 27,
   "id": "ef9810a4",
   "metadata": {
    "execution": {
     "iopub.execute_input": "2021-12-04T18:51:30.979585Z",
     "iopub.status.busy": "2021-12-04T18:51:30.978606Z",
     "iopub.status.idle": "2021-12-04T18:51:30.985328Z",
     "shell.execute_reply": "2021-12-04T18:51:30.984469Z",
     "shell.execute_reply.started": "2021-12-04T18:48:00.948815Z"
    },
    "papermill": {
     "duration": 0.069312,
     "end_time": "2021-12-04T18:51:30.985523",
     "exception": false,
     "start_time": "2021-12-04T18:51:30.916211",
     "status": "completed"
    },
    "tags": []
   },
   "outputs": [
    {
     "name": "stdout",
     "output_type": "stream",
     "text": [
      "Predicted Value for fcmModel is :  [1 0 1 1 0 0 0 0 0 0 0 0 1 0 0 0 0 1 1 1 0 1 0 0 0 1 1 1 1 0 1 1 1 0 0 0 1\n",
      " 1 1 0 1 0 0 0 0 0 0 1 0 1 1 0 1 0 0 1 1 0 0 1 0 0 1 1 1 1 1 0 0 1 1 0 1 0\n",
      " 0 0 0 0 0 1 1 1 0 1 1 0 0 1 1 0 0 0 0 1 1 0 0 1 0 1 0 1 0 1 0 1 1 1 1 1 0\n",
      " 0 1 1 0 0 1 0 0 0 1 0 0 0 0 0 1 1 0 1 0 0 1 0 0 0 1 1 0 0 1 0 1 0 0 0 1 1\n",
      " 0 1 1 1 0 0 1 1 0 0 0 0 0 1 1 1 0 1 1]\n"
     ]
    },
    {
     "data": {
      "text/plain": [
       "(167,)"
      ]
     },
     "execution_count": 27,
     "metadata": {},
     "output_type": "execute_result"
    }
   ],
   "source": [
    "#Calculating Prediction\n",
    "pred = fcmModel.predict(data)\n",
    "print('Predicted Value for fcmModel is : ' , pred)\n",
    "pred.shape"
   ]
  },
  {
   "cell_type": "code",
   "execution_count": 28,
   "id": "425ab723",
   "metadata": {
    "execution": {
     "iopub.execute_input": "2021-12-04T18:51:31.123704Z",
     "iopub.status.busy": "2021-12-04T18:51:31.122791Z",
     "iopub.status.idle": "2021-12-04T18:51:31.127082Z",
     "shell.execute_reply": "2021-12-04T18:51:31.126421Z",
     "shell.execute_reply.started": "2021-12-04T18:48:00.958101Z"
    },
    "papermill": {
     "duration": 0.081612,
     "end_time": "2021-12-04T18:51:31.127235",
     "exception": false,
     "start_time": "2021-12-04T18:51:31.045623",
     "status": "completed"
    },
    "tags": []
   },
   "outputs": [
    {
     "data": {
      "text/html": [
       "<div>\n",
       "<style scoped>\n",
       "    .dataframe tbody tr th:only-of-type {\n",
       "        vertical-align: middle;\n",
       "    }\n",
       "\n",
       "    .dataframe tbody tr th {\n",
       "        vertical-align: top;\n",
       "    }\n",
       "\n",
       "    .dataframe thead th {\n",
       "        text-align: right;\n",
       "    }\n",
       "</style>\n",
       "<table border=\"1\" class=\"dataframe\">\n",
       "  <thead>\n",
       "    <tr style=\"text-align: right;\">\n",
       "      <th></th>\n",
       "      <th>country</th>\n",
       "      <th>child_mort</th>\n",
       "      <th>exports</th>\n",
       "      <th>health</th>\n",
       "      <th>imports</th>\n",
       "      <th>income</th>\n",
       "      <th>inflation</th>\n",
       "      <th>life_expec</th>\n",
       "      <th>total_fer</th>\n",
       "      <th>gdpp</th>\n",
       "    </tr>\n",
       "  </thead>\n",
       "  <tbody>\n",
       "    <tr>\n",
       "      <th>0</th>\n",
       "      <td>-1.721710</td>\n",
       "      <td>1.291532</td>\n",
       "      <td>-1.138280</td>\n",
       "      <td>0.279088</td>\n",
       "      <td>-0.082455</td>\n",
       "      <td>-0.808245</td>\n",
       "      <td>0.157336</td>\n",
       "      <td>-1.619092</td>\n",
       "      <td>1.902882</td>\n",
       "      <td>-0.679180</td>\n",
       "    </tr>\n",
       "    <tr>\n",
       "      <th>1</th>\n",
       "      <td>-1.700967</td>\n",
       "      <td>-0.538949</td>\n",
       "      <td>-0.479658</td>\n",
       "      <td>-0.097016</td>\n",
       "      <td>0.070837</td>\n",
       "      <td>-0.375369</td>\n",
       "      <td>-0.312347</td>\n",
       "      <td>0.647866</td>\n",
       "      <td>-0.859973</td>\n",
       "      <td>-0.485623</td>\n",
       "    </tr>\n",
       "    <tr>\n",
       "      <th>2</th>\n",
       "      <td>-1.680223</td>\n",
       "      <td>-0.272833</td>\n",
       "      <td>-0.099122</td>\n",
       "      <td>-0.966073</td>\n",
       "      <td>-0.641762</td>\n",
       "      <td>-0.220844</td>\n",
       "      <td>0.789274</td>\n",
       "      <td>0.670423</td>\n",
       "      <td>-0.038404</td>\n",
       "      <td>-0.465376</td>\n",
       "    </tr>\n",
       "    <tr>\n",
       "      <th>3</th>\n",
       "      <td>-1.659480</td>\n",
       "      <td>2.007808</td>\n",
       "      <td>0.775381</td>\n",
       "      <td>-1.448071</td>\n",
       "      <td>-0.165315</td>\n",
       "      <td>-0.585043</td>\n",
       "      <td>1.387054</td>\n",
       "      <td>-1.179234</td>\n",
       "      <td>2.128151</td>\n",
       "      <td>-0.516268</td>\n",
       "    </tr>\n",
       "    <tr>\n",
       "      <th>4</th>\n",
       "      <td>-1.638736</td>\n",
       "      <td>-0.695634</td>\n",
       "      <td>0.160668</td>\n",
       "      <td>-0.286894</td>\n",
       "      <td>0.497568</td>\n",
       "      <td>0.101732</td>\n",
       "      <td>-0.601749</td>\n",
       "      <td>0.704258</td>\n",
       "      <td>-0.541946</td>\n",
       "      <td>-0.041817</td>\n",
       "    </tr>\n",
       "    <tr>\n",
       "      <th>...</th>\n",
       "      <td>...</td>\n",
       "      <td>...</td>\n",
       "      <td>...</td>\n",
       "      <td>...</td>\n",
       "      <td>...</td>\n",
       "      <td>...</td>\n",
       "      <td>...</td>\n",
       "      <td>...</td>\n",
       "      <td>...</td>\n",
       "      <td>...</td>\n",
       "    </tr>\n",
       "    <tr>\n",
       "      <th>162</th>\n",
       "      <td>1.638736</td>\n",
       "      <td>-0.225578</td>\n",
       "      <td>0.200917</td>\n",
       "      <td>-0.571711</td>\n",
       "      <td>0.240700</td>\n",
       "      <td>-0.738527</td>\n",
       "      <td>-0.489784</td>\n",
       "      <td>-0.852161</td>\n",
       "      <td>0.365754</td>\n",
       "      <td>-0.546913</td>\n",
       "    </tr>\n",
       "    <tr>\n",
       "      <th>163</th>\n",
       "      <td>1.659480</td>\n",
       "      <td>-0.526514</td>\n",
       "      <td>-0.461363</td>\n",
       "      <td>-0.695862</td>\n",
       "      <td>-1.213499</td>\n",
       "      <td>-0.033542</td>\n",
       "      <td>3.616865</td>\n",
       "      <td>0.546361</td>\n",
       "      <td>-0.316678</td>\n",
       "      <td>0.029323</td>\n",
       "    </tr>\n",
       "    <tr>\n",
       "      <th>164</th>\n",
       "      <td>1.680223</td>\n",
       "      <td>-0.372315</td>\n",
       "      <td>1.130305</td>\n",
       "      <td>0.008877</td>\n",
       "      <td>1.380030</td>\n",
       "      <td>-0.658404</td>\n",
       "      <td>0.409732</td>\n",
       "      <td>0.286958</td>\n",
       "      <td>-0.661206</td>\n",
       "      <td>-0.637754</td>\n",
       "    </tr>\n",
       "    <tr>\n",
       "      <th>165</th>\n",
       "      <td>1.700967</td>\n",
       "      <td>0.448417</td>\n",
       "      <td>-0.406478</td>\n",
       "      <td>-0.597272</td>\n",
       "      <td>-0.517472</td>\n",
       "      <td>-0.658924</td>\n",
       "      <td>1.500916</td>\n",
       "      <td>-0.344633</td>\n",
       "      <td>1.140944</td>\n",
       "      <td>-0.637754</td>\n",
       "    </tr>\n",
       "    <tr>\n",
       "      <th>166</th>\n",
       "      <td>1.721710</td>\n",
       "      <td>1.114951</td>\n",
       "      <td>-0.150348</td>\n",
       "      <td>-0.338015</td>\n",
       "      <td>-0.662477</td>\n",
       "      <td>-0.721358</td>\n",
       "      <td>0.590015</td>\n",
       "      <td>-2.092785</td>\n",
       "      <td>1.624609</td>\n",
       "      <td>-0.629546</td>\n",
       "    </tr>\n",
       "  </tbody>\n",
       "</table>\n",
       "<p>167 rows × 10 columns</p>\n",
       "</div>"
      ],
      "text/plain": [
       "      country  child_mort   exports    health   imports    income  inflation  \\\n",
       "0   -1.721710    1.291532 -1.138280  0.279088 -0.082455 -0.808245   0.157336   \n",
       "1   -1.700967   -0.538949 -0.479658 -0.097016  0.070837 -0.375369  -0.312347   \n",
       "2   -1.680223   -0.272833 -0.099122 -0.966073 -0.641762 -0.220844   0.789274   \n",
       "3   -1.659480    2.007808  0.775381 -1.448071 -0.165315 -0.585043   1.387054   \n",
       "4   -1.638736   -0.695634  0.160668 -0.286894  0.497568  0.101732  -0.601749   \n",
       "..        ...         ...       ...       ...       ...       ...        ...   \n",
       "162  1.638736   -0.225578  0.200917 -0.571711  0.240700 -0.738527  -0.489784   \n",
       "163  1.659480   -0.526514 -0.461363 -0.695862 -1.213499 -0.033542   3.616865   \n",
       "164  1.680223   -0.372315  1.130305  0.008877  1.380030 -0.658404   0.409732   \n",
       "165  1.700967    0.448417 -0.406478 -0.597272 -0.517472 -0.658924   1.500916   \n",
       "166  1.721710    1.114951 -0.150348 -0.338015 -0.662477 -0.721358   0.590015   \n",
       "\n",
       "     life_expec  total_fer      gdpp  \n",
       "0     -1.619092   1.902882 -0.679180  \n",
       "1      0.647866  -0.859973 -0.485623  \n",
       "2      0.670423  -0.038404 -0.465376  \n",
       "3     -1.179234   2.128151 -0.516268  \n",
       "4      0.704258  -0.541946 -0.041817  \n",
       "..          ...        ...       ...  \n",
       "162   -0.852161   0.365754 -0.546913  \n",
       "163    0.546361  -0.316678  0.029323  \n",
       "164    0.286958  -0.661206 -0.637754  \n",
       "165   -0.344633   1.140944 -0.637754  \n",
       "166   -2.092785   1.624609 -0.629546  \n",
       "\n",
       "[167 rows x 10 columns]"
      ]
     },
     "execution_count": 28,
     "metadata": {},
     "output_type": "execute_result"
    }
   ],
   "source": [
    "data = pd.DataFrame(data , columns = columns )\n",
    "data"
   ]
  },
  {
   "cell_type": "code",
   "execution_count": 29,
   "id": "e19b8a7d",
   "metadata": {
    "execution": {
     "iopub.execute_input": "2021-12-04T18:51:31.260799Z",
     "iopub.status.busy": "2021-12-04T18:51:31.259955Z",
     "iopub.status.idle": "2021-12-04T18:51:31.263320Z",
     "shell.execute_reply": "2021-12-04T18:51:31.263800Z",
     "shell.execute_reply.started": "2021-12-04T18:48:00.984375Z"
    },
    "papermill": {
     "duration": 0.078533,
     "end_time": "2021-12-04T18:51:31.264000",
     "exception": false,
     "start_time": "2021-12-04T18:51:31.185467",
     "status": "completed"
    },
    "tags": []
   },
   "outputs": [
    {
     "data": {
      "text/html": [
       "<div>\n",
       "<style scoped>\n",
       "    .dataframe tbody tr th:only-of-type {\n",
       "        vertical-align: middle;\n",
       "    }\n",
       "\n",
       "    .dataframe tbody tr th {\n",
       "        vertical-align: top;\n",
       "    }\n",
       "\n",
       "    .dataframe thead th {\n",
       "        text-align: right;\n",
       "    }\n",
       "</style>\n",
       "<table border=\"1\" class=\"dataframe\">\n",
       "  <thead>\n",
       "    <tr style=\"text-align: right;\">\n",
       "      <th></th>\n",
       "      <th>country</th>\n",
       "      <th>child_mort</th>\n",
       "      <th>exports</th>\n",
       "      <th>health</th>\n",
       "      <th>imports</th>\n",
       "      <th>income</th>\n",
       "      <th>inflation</th>\n",
       "      <th>life_expec</th>\n",
       "      <th>total_fer</th>\n",
       "      <th>gdpp</th>\n",
       "      <th>cluster</th>\n",
       "    </tr>\n",
       "  </thead>\n",
       "  <tbody>\n",
       "    <tr>\n",
       "      <th>0</th>\n",
       "      <td>-1.721710</td>\n",
       "      <td>1.291532</td>\n",
       "      <td>-1.138280</td>\n",
       "      <td>0.279088</td>\n",
       "      <td>-0.082455</td>\n",
       "      <td>-0.808245</td>\n",
       "      <td>0.157336</td>\n",
       "      <td>-1.619092</td>\n",
       "      <td>1.902882</td>\n",
       "      <td>-0.679180</td>\n",
       "      <td>1</td>\n",
       "    </tr>\n",
       "    <tr>\n",
       "      <th>1</th>\n",
       "      <td>-1.700967</td>\n",
       "      <td>-0.538949</td>\n",
       "      <td>-0.479658</td>\n",
       "      <td>-0.097016</td>\n",
       "      <td>0.070837</td>\n",
       "      <td>-0.375369</td>\n",
       "      <td>-0.312347</td>\n",
       "      <td>0.647866</td>\n",
       "      <td>-0.859973</td>\n",
       "      <td>-0.485623</td>\n",
       "      <td>0</td>\n",
       "    </tr>\n",
       "    <tr>\n",
       "      <th>2</th>\n",
       "      <td>-1.680223</td>\n",
       "      <td>-0.272833</td>\n",
       "      <td>-0.099122</td>\n",
       "      <td>-0.966073</td>\n",
       "      <td>-0.641762</td>\n",
       "      <td>-0.220844</td>\n",
       "      <td>0.789274</td>\n",
       "      <td>0.670423</td>\n",
       "      <td>-0.038404</td>\n",
       "      <td>-0.465376</td>\n",
       "      <td>1</td>\n",
       "    </tr>\n",
       "    <tr>\n",
       "      <th>3</th>\n",
       "      <td>-1.659480</td>\n",
       "      <td>2.007808</td>\n",
       "      <td>0.775381</td>\n",
       "      <td>-1.448071</td>\n",
       "      <td>-0.165315</td>\n",
       "      <td>-0.585043</td>\n",
       "      <td>1.387054</td>\n",
       "      <td>-1.179234</td>\n",
       "      <td>2.128151</td>\n",
       "      <td>-0.516268</td>\n",
       "      <td>1</td>\n",
       "    </tr>\n",
       "    <tr>\n",
       "      <th>4</th>\n",
       "      <td>-1.638736</td>\n",
       "      <td>-0.695634</td>\n",
       "      <td>0.160668</td>\n",
       "      <td>-0.286894</td>\n",
       "      <td>0.497568</td>\n",
       "      <td>0.101732</td>\n",
       "      <td>-0.601749</td>\n",
       "      <td>0.704258</td>\n",
       "      <td>-0.541946</td>\n",
       "      <td>-0.041817</td>\n",
       "      <td>0</td>\n",
       "    </tr>\n",
       "  </tbody>\n",
       "</table>\n",
       "</div>"
      ],
      "text/plain": [
       "    country  child_mort   exports    health   imports    income  inflation  \\\n",
       "0 -1.721710    1.291532 -1.138280  0.279088 -0.082455 -0.808245   0.157336   \n",
       "1 -1.700967   -0.538949 -0.479658 -0.097016  0.070837 -0.375369  -0.312347   \n",
       "2 -1.680223   -0.272833 -0.099122 -0.966073 -0.641762 -0.220844   0.789274   \n",
       "3 -1.659480    2.007808  0.775381 -1.448071 -0.165315 -0.585043   1.387054   \n",
       "4 -1.638736   -0.695634  0.160668 -0.286894  0.497568  0.101732  -0.601749   \n",
       "\n",
       "   life_expec  total_fer      gdpp  cluster  \n",
       "0   -1.619092   1.902882 -0.679180        1  \n",
       "1    0.647866  -0.859973 -0.485623        0  \n",
       "2    0.670423  -0.038404 -0.465376        1  \n",
       "3   -1.179234   2.128151 -0.516268        1  \n",
       "4    0.704258  -0.541946 -0.041817        0  "
      ]
     },
     "execution_count": 29,
     "metadata": {},
     "output_type": "execute_result"
    }
   ],
   "source": [
    "# add the cluster column to the dataframe \n",
    "data['cluster'] = pred\n",
    "data.head()"
   ]
  },
  {
   "cell_type": "markdown",
   "id": "4c768f39",
   "metadata": {
    "papermill": {
     "duration": 0.058264,
     "end_time": "2021-12-04T18:51:31.380997",
     "exception": false,
     "start_time": "2021-12-04T18:51:31.322733",
     "status": "completed"
    },
    "tags": []
   },
   "source": [
    "# ****Draw the data and Cluster "
   ]
  },
  {
   "cell_type": "code",
   "execution_count": 30,
   "id": "e15c34a1",
   "metadata": {
    "execution": {
     "iopub.execute_input": "2021-12-04T18:51:31.505519Z",
     "iopub.status.busy": "2021-12-04T18:51:31.504844Z",
     "iopub.status.idle": "2021-12-04T18:51:31.507946Z",
     "shell.execute_reply": "2021-12-04T18:51:31.507331Z",
     "shell.execute_reply.started": "2021-12-04T18:48:01.009905Z"
    },
    "papermill": {
     "duration": 0.06759,
     "end_time": "2021-12-04T18:51:31.508088",
     "exception": false,
     "start_time": "2021-12-04T18:51:31.440498",
     "status": "completed"
    },
    "tags": []
   },
   "outputs": [
    {
     "data": {
      "text/plain": [
       "array([[-1.72171011,  1.29153238, -1.13827979, ...,  1.90288227,\n",
       "        -0.67917961,  1.        ],\n",
       "       [-1.70096662, -0.5389489 , -0.47965843, ..., -0.85997281,\n",
       "        -0.48562324,  0.        ],\n",
       "       [-1.68022312, -0.27283273, -0.09912164, ..., -0.0384044 ,\n",
       "        -0.46537561,  1.        ],\n",
       "       ...,\n",
       "       [ 1.68022312, -0.37231541,  1.13030491, ..., -0.66120626,\n",
       "        -0.63775406,  0.        ],\n",
       "       [ 1.70096662,  0.44841668, -0.40647827, ...,  1.14094382,\n",
       "        -0.63775406,  1.        ],\n",
       "       [ 1.72171011,  1.11495062, -0.15034774, ...,  1.6246091 ,\n",
       "        -0.62954556,  1.        ]])"
      ]
     },
     "execution_count": 30,
     "metadata": {},
     "output_type": "execute_result"
    }
   ],
   "source": [
    "data = data.values\n",
    "data"
   ]
  },
  {
   "cell_type": "code",
   "execution_count": 31,
   "id": "7108de3f",
   "metadata": {
    "execution": {
     "iopub.execute_input": "2021-12-04T18:51:31.654336Z",
     "iopub.status.busy": "2021-12-04T18:51:31.653598Z",
     "iopub.status.idle": "2021-12-04T18:51:31.858321Z",
     "shell.execute_reply": "2021-12-04T18:51:31.858859Z",
     "shell.execute_reply.started": "2021-12-04T18:48:01.022727Z"
    },
    "papermill": {
     "duration": 0.291577,
     "end_time": "2021-12-04T18:51:31.859035",
     "exception": false,
     "start_time": "2021-12-04T18:51:31.567458",
     "status": "completed"
    },
    "tags": []
   },
   "outputs": [
    {
     "data": {
      "image/png": "[encoded data removed]",
      "text/plain": [
       "<Figure size 432x288 with 1 Axes>"
      ]
     },
     "metadata": {
      "needs_background": "light"
     },
     "output_type": "display_data"
    }
   ],
   "source": [
    "# Visualising the clusters\n",
    "plt.scatter(data[pred == 0, 0], data[pred == 0, 1], s = 10, c = 'r')\n",
    "plt.scatter(data[pred == 1, 0], data[pred == 1, 1], s = 10, c = 'b')\n",
    "plt.scatter(center[:, 0], center[:, 1], s = 300, c = 'black',marker = '+')\n",
    "plt.title('Clusters of customers')\n",
    "plt.xlabel('X_label ')\n",
    "plt.ylabel('y_label ')\n",
    "plt.legend()\n",
    "plt.show()\n"
   ]
  },
  {
   "cell_type": "code",
   "execution_count": null,
   "id": "eacdb982",
   "metadata": {
    "papermill": {
     "duration": 0.059969,
     "end_time": "2021-12-04T18:51:31.978914",
     "exception": false,
     "start_time": "2021-12-04T18:51:31.918945",
     "status": "completed"
    },
    "tags": []
   },
   "outputs": [],
   "source": []
  }
 ],
 "metadata": {
  "kernelspec": {
   "display_name": "Python 3",
   "language": "python",
   "name": "python3"
  },
  "language_info": {
   "codemirror_mode": {
    "name": "ipython",
    "version": 3
   },
   "file_extension": ".py",
   "mimetype": "text/x-python",
   "name": "python",
   "nbconvert_exporter": "python",
   "pygments_lexer": "ipython3",
   "version": "3.7.12"
  },
  "papermill": {
   "default_parameters": {},
   "duration": 36.035712,
   "end_time": "2021-12-04T18:51:32.751861",
   "environment_variables": {},
   "exception": null,
   "input_path": "__notebook__.ipynb",
   "output_path": "__notebook__.ipynb",
   "parameters": {},
   "start_time": "2021-12-04T18:50:56.716149",
   "version": "2.3.3"
  }
 },
 "nbformat": 4,
 "nbformat_minor": 5
}
